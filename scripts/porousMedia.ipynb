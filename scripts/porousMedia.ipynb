{
 "cells": [
  {
   "cell_type": "code",
   "execution_count": 1,
   "metadata": {},
   "outputs": [],
   "source": [
    "# Make sure needed modules are installed \n",
    "! pip -q install porespy matplotlib"
   ]
  },
  {
   "cell_type": "code",
   "execution_count": 2,
   "metadata": {},
   "outputs": [],
   "source": [
    "# Important modules\n",
    "import porespy as ps\n",
    "import matplotlib.pyplot as plt\n",
    "\n",
    "# Create an artificial 400x400 (40%-)porous medium\n",
    "im = ps.generators.blobs(shape=[400, 400], porosity=0.4, blobiness=1.5)\n",
    "\n",
    "# Save the image to a file\n",
    "plt.imsave('porous-media.png', im)"
   ]
  },
  {
   "cell_type": "markdown",
   "metadata": {},
   "source": [
    "2D Porous media representation:\n",
    "\n",
    "![](porous-media.png)"
   ]
  },
  {
   "cell_type": "code",
   "execution_count": 4,
   "metadata": {},
   "outputs": [
    {
     "name": "stdout",
     "output_type": "stream",
     "text": [
      "{\"success\":true,\"key\":\"chvtANLVbo3f\",\"link\":\"https://file.io/chvtANLVbo3f\",\"expiry\":\"1 day\"}"
     ]
    }
   ],
   "source": [
    "# Upload the image to file.io (file expires after 1 day)\n",
    "# Please note the link in the output of this command\n",
    "! curl -F \"file=@porous-media.png\" https://file.io/?expires=1d"
   ]
  }
 ],
 "metadata": {
  "kernelspec": {
   "display_name": "Python 3",
   "language": "python",
   "name": "python3"
  },
  "language_info": {
   "codemirror_mode": {
    "name": "ipython",
    "version": 3
   },
   "file_extension": ".py",
   "mimetype": "text/x-python",
   "name": "python",
   "nbconvert_exporter": "python",
   "pygments_lexer": "ipython3",
   "version": "3.7.8"
  }
 },
 "nbformat": 4,
 "nbformat_minor": 4
}
